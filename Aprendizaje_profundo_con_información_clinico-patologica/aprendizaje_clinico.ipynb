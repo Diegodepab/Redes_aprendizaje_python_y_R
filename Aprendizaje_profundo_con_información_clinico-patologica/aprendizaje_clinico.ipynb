{
  "cells": [
    {
      "cell_type": "markdown",
      "source": [
        "## **Aprendizaje profundo con información clínica patológica**\n",
        "\n",
        "Mi intención es facilitar lo mayor posible la corrección de este trabajo, siendo el apartado de tratamientos de datos sin cambiar tanto el código base del trabajo, pero agregando puntos que considero que facilitarán y mejoraran la creación de un modelo, estos puntos serán comentados y razonados en los bloques markdown que empiezan con **agregado**."
      ],
      "metadata": {
        "id": "CNb5oYwycI_c"
      }
    },
    {
      "cell_type": "markdown",
      "metadata": {
        "id": "NuKL1ld0Qczt"
      },
      "source": [
        "Bibliotecas"
      ]
    },
    {
      "cell_type": "code",
      "execution_count": 78,
      "metadata": {
        "id": "8ts_8HYPQczu"
      },
      "outputs": [],
      "source": [
        "import warnings\n",
        "warnings.filterwarnings('ignore')\n",
        "import matplotlib.pyplot as plt\n",
        "import numpy as np\n",
        "import pandas as pd\n",
        "import seaborn as sns # pip install seaborn\n",
        "from sklearn.preprocessing import LabelEncoder\n",
        "from collections import Counter\n",
        "from imblearn.under_sampling import RandomUnderSampler # pip install imbalanced-learn\n",
        "from sklearn.feature_selection import SelectKBest\n",
        "from sklearn.feature_selection import mutual_info_classif\n",
        "from sklearn.model_selection import train_test_split\n",
        "from sklearn.preprocessing import StandardScaler\n",
        "\n",
        "from keras.models import Sequential\n",
        "from keras.layers import Dense, Dropout\n",
        "from keras.optimizers import Adam\n",
        "from sklearn.metrics import roc_auc_score, accuracy_score, roc_curve\n",
        "from sklearn.model_selection import cross_val_score, StratifiedKFold\n",
        "\n",
        "from tensorflow.keras.models import Sequential\n",
        "from tensorflow.keras.layers import Dense, Dropout\n",
        "from tensorflow.keras.optimizers import Adam\n",
        "from tensorflow.keras.callbacks import EarlyStopping\n",
        "from sklearn.model_selection import train_test_split\n",
        "from sklearn.preprocessing import StandardScaler\n",
        "\n"
      ]
    },
    {
      "cell_type": "markdown",
      "metadata": {
        "id": "FBxe54fxQczv"
      },
      "source": [
        "Lectura del conjunto de datos"
      ]
    },
    {
      "cell_type": "code",
      "execution_count": 79,
      "metadata": {
        "id": "3UKS4z1EQczv"
      },
      "outputs": [],
      "source": [
        "df = pd.read_csv(\"mort_hospital.csv\")"
      ]
    },
    {
      "cell_type": "markdown",
      "metadata": {
        "id": "C0-LhsBVQczw"
      },
      "source": [
        "**Problema**: Alto número de columnas con datos no informados"
      ]
    },
    {
      "cell_type": "code",
      "execution_count": 80,
      "metadata": {
        "id": "a9x9MSHpQczw",
        "outputId": "093e2c01-12d2-42f8-e7e5-44caae5e7e4e",
        "colab": {
          "base_uri": "https://localhost:8080/"
        }
      },
      "outputs": [
        {
          "output_type": "execute_result",
          "data": {
            "text/plain": [
              "175"
            ]
          },
          "metadata": {},
          "execution_count": 80
        }
      ],
      "source": [
        "df.isnull().any().sum()"
      ]
    },
    {
      "cell_type": "markdown",
      "metadata": {
        "id": "6l7-Fw_AQczw"
      },
      "source": [
        "**Problema**: Presencia de variables no numéricas"
      ]
    },
    {
      "cell_type": "code",
      "execution_count": 81,
      "metadata": {
        "id": "pVloEpOWQczw",
        "outputId": "d70c31ef-ac0c-42f3-8fb0-a84d6e4102c1",
        "colab": {
          "base_uri": "https://localhost:8080/"
        }
      },
      "outputs": [
        {
          "output_type": "stream",
          "name": "stdout",
          "text": [
            "Columnas con datos categóricos: 8\n",
            "Columnas con datos numéricos: 178\n"
          ]
        }
      ],
      "source": [
        "object_columns = df.select_dtypes(include=['object']).columns\n",
        "cols = df.select_dtypes([np.number]).columns\n",
        "print(\"Columnas con datos categóricos:\", len(object_columns))\n",
        "print(\"Columnas con datos numéricos:\", len(cols))"
      ]
    },
    {
      "cell_type": "markdown",
      "metadata": {
        "id": "pdWQPX7lQczw"
      },
      "source": [
        "**Problema**: Las clases de la variable de interés están muy desequilibradas"
      ]
    },
    {
      "cell_type": "code",
      "execution_count": 82,
      "metadata": {
        "id": "VzK9d7scQczw",
        "outputId": "393ff314-855d-4969-b2d1-4cdeab6e8489",
        "colab": {
          "base_uri": "https://localhost:8080/",
          "height": 453
        }
      },
      "outputs": [
        {
          "output_type": "display_data",
          "data": {
            "text/plain": [
              "<Figure size 640x480 with 1 Axes>"
            ],
            "image/png": "[encoded data removed]"
          },
          "metadata": {}
        }
      ],
      "source": [
        "sns.set_style('whitegrid')\n",
        "ax = sns.countplot(x='hospital_death', data=df)\n",
        "\n",
        "for p in ax.patches:\n",
        "    ax.annotate(f'{p.get_height()}', (p.get_x() + p.get_width() / 2., p.get_height()),\n",
        "                ha='center', va='center', xytext=(0, 10), textcoords='offset points')\n",
        "\n",
        "plt.show()"
      ]
    },
    {
      "cell_type": "markdown",
      "source": [
        "**Agregado:** El plot muestra ahora exactamente el número exacto de cada clase.\n",
        "\n",
        "A continuación cree una función que estudia cuanto porcentaje de datos faltantes hay en cada variable, puesto que casos como `h1_bilirubin_min` que muestra un 92,27% de datos faltantes, rellenarlos con el promedio (por temas de legibilidad del markdown no puse los códigos donde evalue cada variable por separado, pero todas las que tienen más de un 50% de datos faltantes eran variables númericas), considero que esto en vez de ayudar a encontrar patrones en los datos con los que predecir puede causar sobrentrenamiento o percepción de patrones inexistentes.\n",
        "\n",
        "Por lo que se uso un limite de aquellas variables con más de 50% datos faltantes serán borrados."
      ],
      "metadata": {
        "id": "3wuKrmqGR4Iu"
      }
    },
    {
      "cell_type": "code",
      "source": [
        "\n",
        "def eliminar_columnas_con_muchos_na(df, porcentaje_limite=50):\n",
        "    \"\"\"\n",
        "    Estudia el porcentaje de valores NA en cada columna de un DataFrame y elimina las columnas que superen el porcentaje límite.\n",
        "\n",
        "    Args:\n",
        "        df: DataFrame de pandas.\n",
        "        porcentaje_limite: Porcentaje límite de valores NA para eliminar una columna.\n",
        "\n",
        "    Returns:\n",
        "        DataFrame de pandas con las columnas eliminadas o el mismo DataFrame si no se eliminaron columnas.\n",
        "    \"\"\"\n",
        "\n",
        "    # Calcular el porcentaje de valores NA en cada columna\n",
        "    missing_percentage = (df.isnull().sum() / len(df)) * 100\n",
        "\n",
        "    # Ordenar las columnas por porcentaje de NA de mayor a menor\n",
        "    missing_series = missing_percentage.sort_values(ascending=False)\n",
        "\n",
        "    # Identificar las columnas a eliminar\n",
        "    columnas_a_eliminar = missing_series[missing_series > porcentaje_limite].index\n",
        "\n",
        "    # Eliminar las columnas si hay alguna que supere el límite\n",
        "    if len(columnas_a_eliminar) > 0:\n",
        "        print(\"Columnas eliminadas por superar el límite de NA:\")\n",
        "        for column, percentage in missing_series[missing_series > porcentaje_limite].items():\n",
        "            print(f\"{column}: {percentage:.2f}%\")\n",
        "\n",
        "        print(\"\\nColumnas que permanecen en el dataset:\")\n",
        "        for column, percentage in missing_series[missing_series <= porcentaje_limite].items():\n",
        "            print(f\"{column}: {percentage:.2f}%\")\n",
        "\n",
        "        df = df.drop(columns=columnas_a_eliminar)\n",
        "    else:\n",
        "        print(\"Todas las columnas tienen un porcentaje de NA aceptable.\")\n",
        "\n",
        "    return df\n",
        "\n",
        "\n",
        "\n",
        "df = eliminar_columnas_con_muchos_na(df,25)"
      ],
      "metadata": {
        "colab": {
          "base_uri": "https://localhost:8080/"
        },
        "id": "i6BYtqfYVMiD",
        "outputId": "ee9022a7-cbb6-4cf6-e9cd-854578a4a463"
      },
      "execution_count": 83,
      "outputs": [
        {
          "output_type": "stream",
          "name": "stdout",
          "text": [
            "Columnas eliminadas por superar el límite de NA:\n",
            "h1_bilirubin_min: 92.27%\n",
            "h1_bilirubin_max: 92.27%\n",
            "h1_lactate_max: 91.99%\n",
            "h1_lactate_min: 91.99%\n",
            "h1_albumin_max: 91.40%\n",
            "h1_albumin_min: 91.40%\n",
            "h1_pao2fio2ratio_min: 87.44%\n",
            "h1_pao2fio2ratio_max: 87.44%\n",
            "h1_arterial_ph_max: 83.33%\n",
            "h1_arterial_ph_min: 83.33%\n",
            "h1_hco3_max: 82.97%\n",
            "h1_hco3_min: 82.97%\n",
            "h1_arterial_pco2_min: 82.82%\n",
            "h1_arterial_pco2_max: 82.82%\n",
            "h1_wbc_max: 82.82%\n",
            "h1_wbc_min: 82.82%\n",
            "h1_arterial_po2_max: 82.81%\n",
            "h1_arterial_po2_min: 82.81%\n",
            "h1_calcium_max: 82.72%\n",
            "h1_calcium_min: 82.72%\n",
            "h1_platelets_max: 82.51%\n",
            "h1_platelets_min: 82.51%\n",
            "h1_bun_max: 81.88%\n",
            "h1_bun_min: 81.88%\n",
            "h1_creatinine_max: 81.73%\n",
            "h1_creatinine_min: 81.73%\n",
            "h1_diasbp_invasive_min: 81.70%\n",
            "h1_diasbp_invasive_max: 81.70%\n",
            "h1_sysbp_invasive_max: 81.68%\n",
            "h1_sysbp_invasive_min: 81.68%\n",
            "h1_mbp_invasive_min: 81.61%\n",
            "h1_mbp_invasive_max: 81.61%\n",
            "h1_hematocrit_max: 80.05%\n",
            "h1_hematocrit_min: 80.05%\n",
            "h1_hemaglobin_min: 79.73%\n",
            "h1_hemaglobin_max: 79.73%\n",
            "h1_sodium_min: 79.18%\n",
            "h1_sodium_max: 79.18%\n",
            "h1_potassium_max: 78.62%\n",
            "h1_potassium_min: 78.62%\n",
            "pao2_apache: 77.27%\n",
            "ph_apache: 77.27%\n",
            "paco2_for_ph_apache: 77.27%\n",
            "paco2_apache: 77.27%\n",
            "fio2_apache: 77.27%\n",
            "d1_lactate_max: 74.58%\n",
            "d1_lactate_min: 74.58%\n",
            "d1_diasbp_invasive_min: 74.13%\n",
            "d1_diasbp_invasive_max: 74.13%\n",
            "d1_sysbp_invasive_min: 74.10%\n",
            "d1_sysbp_invasive_max: 74.10%\n",
            "d1_mbp_invasive_max: 73.90%\n",
            "d1_mbp_invasive_min: 73.90%\n",
            "d1_pao2fio2ratio_min: 71.97%\n",
            "d1_pao2fio2ratio_max: 71.97%\n",
            "d1_arterial_ph_max: 65.56%\n",
            "d1_arterial_ph_min: 65.56%\n",
            "d1_arterial_pco2_max: 64.63%\n",
            "d1_arterial_pco2_min: 64.63%\n",
            "d1_arterial_po2_min: 64.62%\n",
            "d1_arterial_po2_max: 64.62%\n",
            "bilirubin_apache: 63.39%\n",
            "h1_inr_max: 63.18%\n",
            "h1_inr_min: 63.18%\n",
            "d1_inr_min: 63.18%\n",
            "d1_inr_max: 63.18%\n",
            "albumin_apache: 59.29%\n",
            "d1_bilirubin_max: 58.52%\n",
            "d1_bilirubin_min: 58.52%\n",
            "h1_glucose_min: 57.37%\n",
            "h1_glucose_max: 57.37%\n",
            "d1_albumin_max: 53.53%\n",
            "d1_albumin_min: 53.53%\n",
            "urineoutput_apache: 53.43%\n",
            "\n",
            "Columnas que permanecen en el dataset:\n",
            "wbc_apache: 24.00%\n",
            "h1_temp_min: 23.70%\n",
            "h1_temp_max: 23.70%\n",
            "hospital_admit_source: 23.34%\n",
            "hematocrit_apache: 21.67%\n",
            "bun_apache: 21.00%\n",
            "creatinine_apache: 20.56%\n",
            "sodium_apache: 20.28%\n",
            "d1_hco3_max: 16.43%\n",
            "d1_hco3_min: 16.43%\n",
            "d1_platelets_max: 14.66%\n",
            "d1_platelets_min: 14.66%\n",
            "d1_wbc_max: 14.36%\n",
            "d1_wbc_min: 14.36%\n",
            "d1_calcium_min: 14.25%\n",
            "d1_calcium_max: 14.25%\n",
            "d1_hemaglobin_max: 13.24%\n",
            "d1_hemaglobin_min: 13.24%\n",
            "d1_hematocrit_min: 12.71%\n",
            "d1_hematocrit_max: 12.71%\n",
            "glucose_apache: 12.03%\n",
            "d1_bun_min: 11.46%\n",
            "d1_bun_max: 11.46%\n",
            "d1_sodium_max: 11.12%\n",
            "d1_sodium_min: 11.12%\n",
            "d1_creatinine_max: 11.09%\n",
            "d1_creatinine_min: 11.09%\n",
            "d1_potassium_min: 10.45%\n",
            "d1_potassium_max: 10.45%\n",
            "h1_mbp_noninvasive_max: 9.90%\n",
            "h1_mbp_noninvasive_min: 9.90%\n",
            "apache_4a_icu_death_prob: 8.67%\n",
            "apache_4a_hospital_death_prob: 8.67%\n",
            "h1_diasbp_noninvasive_max: 8.01%\n",
            "h1_diasbp_noninvasive_min: 8.01%\n",
            "h1_sysbp_noninvasive_max: 8.00%\n",
            "h1_sysbp_noninvasive_min: 8.00%\n",
            "d1_glucose_max: 6.33%\n",
            "d1_glucose_min: 6.33%\n",
            "h1_mbp_min: 5.06%\n",
            "h1_mbp_max: 5.06%\n",
            "h1_resprate_min: 4.75%\n",
            "h1_resprate_max: 4.75%\n",
            "age: 4.61%\n",
            "h1_spo2_min: 4.56%\n",
            "h1_spo2_max: 4.56%\n",
            "temp_apache: 4.48%\n",
            "h1_diasbp_min: 3.95%\n",
            "h1_diasbp_max: 3.95%\n",
            "h1_sysbp_min: 3.94%\n",
            "h1_sysbp_max: 3.94%\n",
            "bmi: 3.74%\n",
            "h1_heartrate_min: 3.04%\n",
            "h1_heartrate_max: 3.04%\n",
            "weight: 2.97%\n",
            "d1_temp_min: 2.53%\n",
            "d1_temp_max: 2.53%\n",
            "gcs_eyes_apache: 2.07%\n",
            "gcs_motor_apache: 2.07%\n",
            "gcs_verbal_apache: 2.07%\n",
            "apache_3j_bodysystem: 1.81%\n",
            "apache_2_bodysystem: 1.81%\n",
            "apache_2_diagnosis: 1.81%\n",
            "d1_mbp_noninvasive_max: 1.61%\n",
            "d1_mbp_noninvasive_min: 1.61%\n",
            "ethnicity: 1.52%\n",
            "height: 1.45%\n",
            "resprate_apache: 1.35%\n",
            "apache_3j_diagnosis: 1.20%\n",
            "d1_diasbp_noninvasive_min: 1.13%\n",
            "d1_diasbp_noninvasive_max: 1.13%\n",
            "gcs_unable_apache: 1.13%\n",
            "d1_sysbp_noninvasive_max: 1.12%\n",
            "d1_sysbp_noninvasive_min: 1.12%\n",
            "map_apache: 1.08%\n",
            "heart_rate_apache: 0.96%\n",
            "hepatic_failure: 0.78%\n",
            "immunosuppression: 0.78%\n",
            "leukemia: 0.78%\n",
            "diabetes_mellitus: 0.78%\n",
            "lymphoma: 0.78%\n",
            "solid_tumor_with_metastasis: 0.78%\n",
            "intubated_apache: 0.78%\n",
            "arf_apache: 0.78%\n",
            "aids: 0.78%\n",
            "ventilated_apache: 0.78%\n",
            "cirrhosis: 0.78%\n",
            "d1_resprate_min: 0.42%\n",
            "d1_resprate_max: 0.42%\n",
            "d1_spo2_max: 0.36%\n",
            "d1_spo2_min: 0.36%\n",
            "d1_mbp_max: 0.24%\n",
            "d1_mbp_min: 0.24%\n",
            "d1_diasbp_min: 0.18%\n",
            "d1_diasbp_max: 0.18%\n",
            "d1_sysbp_max: 0.17%\n",
            "d1_sysbp_min: 0.17%\n",
            "d1_heartrate_max: 0.16%\n",
            "d1_heartrate_min: 0.16%\n",
            "icu_admit_source: 0.12%\n",
            "gender: 0.03%\n",
            "hospital_id: 0.00%\n",
            "patient_id: 0.00%\n",
            "hospital_death: 0.00%\n",
            "elective_surgery: 0.00%\n",
            "icu_id: 0.00%\n",
            "icu_stay_type: 0.00%\n",
            "icu_type: 0.00%\n",
            "pre_icu_los_days: 0.00%\n",
            "readmission_status: 0.00%\n",
            "apache_post_operative: 0.00%\n",
            "encounter_id: 0.00%\n"
          ]
        }
      ]
    },
    {
      "cell_type": "markdown",
      "source": [
        "**Agregado:** Recapitulación de información de las columnas, actualmente el dataframe cuenta con 70 columnas numéricas menos."
      ],
      "metadata": {
        "id": "dIHrQ6fxdzv8"
      }
    },
    {
      "cell_type": "code",
      "source": [
        "object_columns = df.select_dtypes(include=['object']).columns\n",
        "cols = df.select_dtypes([np.number]).columns\n",
        "print(\"Columnas con datos categóricos:\", len(object_columns))\n",
        "print(\"Columnas con datos numéricos:\", len(cols))"
      ],
      "metadata": {
        "id": "nsJnoYa6d1Z0",
        "outputId": "c254ae07-3dfc-44fe-f14a-6001cb0aa34d",
        "colab": {
          "base_uri": "https://localhost:8080/"
        }
      },
      "execution_count": 84,
      "outputs": [
        {
          "output_type": "stream",
          "name": "stdout",
          "text": [
            "Columnas con datos categóricos: 8\n",
            "Columnas con datos numéricos: 104\n"
          ]
        }
      ]
    },
    {
      "cell_type": "markdown",
      "metadata": {
        "id": "78KyJSF-Qczw"
      },
      "source": [
        "Solución al problema de los datos no informados:\n",
        "- Variables categóricas: rellenar con la moda\n",
        "- Variables numéricas: rellenar con el promedio"
      ]
    },
    {
      "cell_type": "code",
      "execution_count": 85,
      "metadata": {
        "id": "M-6JmQNwQczx"
      },
      "outputs": [],
      "source": [
        "for i in object_columns:\n",
        "    df[i].fillna(df[i].mode()[0], inplace=True)\n",
        "\n",
        "df[cols] = df[cols].fillna(df[cols].mean())"
      ]
    },
    {
      "cell_type": "markdown",
      "metadata": {
        "id": "dNo52_9CQczx"
      },
      "source": [
        "Solución al problema de las variables no numéricas:\n",
        "- Codificación de variables categóricas"
      ]
    },
    {
      "cell_type": "code",
      "execution_count": 86,
      "metadata": {
        "id": "b6GYgWCzQczx",
        "outputId": "3c86111f-3574-4589-a99c-30edbafea20d",
        "colab": {
          "base_uri": "https://localhost:8080/"
        }
      },
      "outputs": [
        {
          "output_type": "stream",
          "name": "stdout",
          "text": [
            "Valores de la variable 'etnicity' antes de la codificación: ['Caucasian' 'Hispanic' 'African American' 'Asian' 'Native American'\n",
            " 'Other/Unknown']\n",
            "Valores de la variable 'etnicity' después de la codificación: [2 3 0 1 4 5]\n"
          ]
        }
      ],
      "source": [
        "print(\"Valores de la variable 'etnicity' antes de la codificación:\", df['ethnicity'].unique())\n",
        "le = LabelEncoder()\n",
        "df[object_columns] = df[object_columns].apply(le.fit_transform)\n",
        "print(\"Valores de la variable 'etnicity' después de la codificación:\", df['ethnicity'].unique())"
      ]
    },
    {
      "cell_type": "markdown",
      "metadata": {
        "id": "C_l67OJIQczx"
      },
      "source": [
        "Solución al problema del desequilibrio de la variable de interés:\n",
        "- Muestreo de la clase más numerosa"
      ]
    },
    {
      "cell_type": "code",
      "execution_count": 87,
      "metadata": {
        "id": "8rKgTn0cQczx",
        "outputId": "6b0ab150-bd02-4e99-8772-f8f42484f420",
        "colab": {
          "base_uri": "https://localhost:8080/"
        }
      },
      "outputs": [
        {
          "output_type": "stream",
          "name": "stdout",
          "text": [
            "Recuento de categorías de salida: Counter({0: 7915, 1: 7915})\n"
          ]
        }
      ],
      "source": [
        "X = df.drop(columns='hospital_death', axis=1)\n",
        "y = df['hospital_death']\n",
        "\n",
        "undersample = RandomUnderSampler(sampling_strategy='majority')\n",
        "X, y = undersample.fit_resample(X, y)\n",
        "\n",
        "print(\"Recuento de categorías de salida:\", Counter(y))"
      ]
    },
    {
      "cell_type": "markdown",
      "metadata": {
        "id": "8sd80fc5Qczx"
      },
      "source": [
        "Selección de características"
      ]
    },
    {
      "cell_type": "code",
      "execution_count": 88,
      "metadata": {
        "id": "mB8gAS1EQczx"
      },
      "outputs": [],
      "source": [
        "X_train, X_test, y_train, y_test = train_test_split(X, y, test_size=0.2, stratify=y, random_state=2)\n",
        "\n"
      ]
    },
    {
      "cell_type": "markdown",
      "metadata": {
        "id": "d4QazySPQczx"
      },
      "source": [
        "Normalización de datos"
      ]
    },
    {
      "cell_type": "markdown",
      "source": [
        "Considero que el trabajo real empieza a partir de este punto, si quieres confirmar que mi entendimiento del código proporcionado puedes ver [mi repositorio github que hablo más a detalle en el readme](https://github.com/Diegodepab/Redes_aprendizaje_python_y_R/tree/main/Aprendizaje_profundo_con_informaci%C3%B3n_clinico-patologica) sobre el preprocesamiento de datos."
      ],
      "metadata": {
        "id": "DWsn8xPUq6Vh"
      }
    },
    {
      "cell_type": "markdown",
      "metadata": {
        "id": "6sM1y-7ZQczx"
      },
      "source": [
        "### Solución de la tarea 2\n",
        "**Objetivos**\n",
        "- Entender el código proporcionado: tratamiento de datos no informados, codificación de variables categóricas, equilibrado de categorías de la variable de interés, selección de características y normalización.\n",
        "- Diseñar y entrenar una red neuronal para predecir la variable 'hospital_death':\n",
        "    - Probar con distintos valores de 'num_k' para cambiar el número de características seleccionadas.\n",
        "    - Diseñar un modelo secuencial ('Sequential()'), cuya primera capa debe especificar como 'input_dim' el valor 'num_k', probando distintos números de capas, funciones de activación (RELU y variantes para las capas ocultas, sigmoide para la capa final), número de neuronas en cada capa, capas 'Dropout', etc.\n",
        "    - Compilar el modelo estableciendo una función de error ('loss'), el optimizador (puedes cambiar el parámetro 'learning_rate') y las métricas de rendimiento que se calcularán.\n",
        "    - Ajustar el modelo con los datos de entrenamiento estableciendo para la función 'fit' el número de iteraciones ('epochs'), el porcentaje de datos de validación ('validation_split') y el tamaño de lote para la retropropagación ('batch_size').\n",
        "- **OPCIONAL**: En lugar de cablear en el código los parámetros anteriores y modificarlos a mano, se valorará muy positivamente la escritura de un programa que genere dinámicamente diferentes arquitecturas probando distintos valores para todos o algunos de los parámetros del punto anterior."
      ]
    },
    {
      "cell_type": "markdown",
      "source": [
        "Voy a plantear dos funciones para cumplir los objetivos deseados. La primera función probará distintos valores de num_k y transformará los datos en función de los mejores atributos seleccionados. La segunda diseñará el modelo secuencial con diferentes configuraciones, entrenará, y mostrará tanto la curva ROC como la precisión para determinar el mejor num_k.\n",
        "\n",
        "###  Primera función: Selección de características\n",
        "\n",
        "Antes de entrenar el modelo, es importante realizar una **selección adecuada de las características más relevantes** del conjunto de datos para mejorar el rendimiento del modelo. En este caso, se utilizará la función `SelectKBest` de `sklearn`, que selecciona las mejores características basándose en una métrica de información mutua. El parámetro k define cuántas características se deben seleccionar, y se probarán diferentes valores de k para encontrar la cantidad óptima de características.\n",
        "\n",
        "El código que se presenta a continuación permite transformar los conjuntos de **entrenamiento** y **prueba** seleccionando las mejores características según los valores de k definidos. Posteriormente, los datos son estandarizados usando `StandardScaler` para asegurar que todas las características tengan la misma escala, lo que es fundamental para el buen desempeño del modelo. El resultado es un diccionario que contiene las transformaciones para cada valor de k, que luego se pueden usar en el entrenamiento y evaluación del modelo."
      ],
      "metadata": {
        "id": "-4UmJD2it5gJ"
      }
    },
    {
      "cell_type": "code",
      "source": [
        "def seleccionar_mejores_k(X_train, X_test, y_train, num_ks):\n",
        "    resultados = {}\n",
        "\n",
        "    for num_k in num_ks:\n",
        "        # Seleccionar las mejores k características\n",
        "        selector = SelectKBest(mutual_info_classif, k=num_k)\n",
        "        selector.fit(X_train, y_train)\n",
        "\n",
        "        # Transformar los datos de entrenamiento y prueba\n",
        "        X_train_new = selector.transform(X_train)\n",
        "        X_test_new = selector.transform(X_test)\n",
        "\n",
        "        # Estandarización de los datos\n",
        "        scaler = StandardScaler()\n",
        "        X_train_std = scaler.fit_transform(X_train_new)\n",
        "        X_test_std = scaler.transform(X_test_new)\n",
        "\n",
        "        # Almacenar los datos transformados\n",
        "        resultados[num_k] = (X_train_std, X_test_std)\n",
        "\n",
        "    return resultados\n",
        "\n",
        "num_ks = [5,  8, 10, 13, 15, 17,20, 22, 25]\n",
        "resultados_k = seleccionar_mejores_k(X_train, X_test, y_train, num_ks)\n",
        "#print(resultados_k)"
      ],
      "metadata": {
        "id": "1uFFrxm_rxe5"
      },
      "execution_count": 89,
      "outputs": []
    },
    {
      "cell_type": "markdown",
      "source": [
        "El resultado mostrado es un diccionario en el que cada clave representa un valor de `\"k\"`, que indica el número de características seleccionadas en el proceso de selección de las mejores características para el modelo. Para cada valor de `\"k\"`, se almacenan dos matrices: una para los datos de entrenamiento (`X_train_std`) y otra para los datos de prueba (`X_test_std`). Estas matrices contienen los datos transformados, donde las características seleccionadas han sido normalizadas (escaladas) para que tengan una media de 0 y una desviación estándar de 1. Esto permite que el modelo sea entrenado de manera más eficiente, eliminando el impacto de las diferentes escalas de las características originales. Cada conjunto de datos corresponde a una selección diferente de características según el valor de \"`k`\", lo que permite comparar cómo el número de características seleccionadas afecta al desempeño del modelo.\n",
        "\n",
        "###  Evaluación de `num_k` y diseño de modelos\n",
        "\n",
        "A continuación se lleva a cabo la evaluación del desempeño de **los modelos secuenciales** generados con diferentes valores de `num_k` anteriormente. Se utiliza un ciclo para probar cada conjunto de características seleccionadas, diseñando un modelo de red neuronal secuencial con diferentes capas, funciones de activación (ReLU para las capas ocultas y sigmoide para la capa de salida), y la inclusión de capas Dropout para evitar el sobreajuste.\n",
        "\n",
        "El modelo se compila con una función de error (`binary_crossentropy`), un optimizador `Adam` con un `learning_rate` ajustable y se entrena con un número de épocas definidas y un tamaño de lote específico. Además, la función permite usar validación cruzada (Que se usará más adelante con los mejores resultados) para obtener una evaluación más robusta mediante la métrica ROC-AUC. El rendimiento de cada modelo se muestra a través de las métricas de ROC-AUC y precisión (accuracy). La función retorna el valor de num_k que ha mostrado el mejor desempeño en cuanto a ROC-AUC."
      ],
      "metadata": {
        "id": "ucJyk2rBr4zg"
      }
    },
    {
      "cell_type": "code",
      "execution_count": 90,
      "metadata": {
        "id": "8BVTTYgpQczy",
        "outputId": "4f05f04d-2d89-492d-9031-78449ffafde8",
        "colab": {
          "base_uri": "https://localhost:8080/",
          "height": 547
        }
      },
      "outputs": [
        {
          "output_type": "stream",
          "name": "stdout",
          "text": [
            "\u001b[1m99/99\u001b[0m \u001b[32m━━━━━━━━━━━━━━━━━━━━\u001b[0m\u001b[37m\u001b[0m \u001b[1m0s\u001b[0m 2ms/step\n",
            "num_k: 5, ROC-AUC: 0.8588, Accuracy: 0.7732\n",
            "\u001b[1m99/99\u001b[0m \u001b[32m━━━━━━━━━━━━━━━━━━━━\u001b[0m\u001b[37m\u001b[0m \u001b[1m0s\u001b[0m 2ms/step\n",
            "num_k: 8, ROC-AUC: 0.8613, Accuracy: 0.7798\n",
            "\u001b[1m99/99\u001b[0m \u001b[32m━━━━━━━━━━━━━━━━━━━━\u001b[0m\u001b[37m\u001b[0m \u001b[1m0s\u001b[0m 1ms/step\n",
            "num_k: 10, ROC-AUC: 0.8752, Accuracy: 0.7890\n",
            "\u001b[1m99/99\u001b[0m \u001b[32m━━━━━━━━━━━━━━━━━━━━\u001b[0m\u001b[37m\u001b[0m \u001b[1m0s\u001b[0m 2ms/step\n",
            "num_k: 13, ROC-AUC: 0.8771, Accuracy: 0.7956\n",
            "\u001b[1m99/99\u001b[0m \u001b[32m━━━━━━━━━━━━━━━━━━━━\u001b[0m\u001b[37m\u001b[0m \u001b[1m0s\u001b[0m 2ms/step\n",
            "num_k: 15, ROC-AUC: 0.8808, Accuracy: 0.8004\n",
            "\u001b[1m99/99\u001b[0m \u001b[32m━━━━━━━━━━━━━━━━━━━━\u001b[0m\u001b[37m\u001b[0m \u001b[1m0s\u001b[0m 2ms/step\n",
            "num_k: 17, ROC-AUC: 0.8810, Accuracy: 0.8023\n"
          ]
        },
        {
          "output_type": "error",
          "ename": "KeyboardInterrupt",
          "evalue": "",
          "traceback": [
            "\u001b[0;31m---------------------------------------------------------------------------\u001b[0m",
            "\u001b[0;31mKeyboardInterrupt\u001b[0m                         Traceback (most recent call last)",
            "\u001b[0;32m<ipython-input-90-c4e3cce37db1>\u001b[0m in \u001b[0;36m<cell line: 39>\u001b[0;34m()\u001b[0m\n\u001b[1;32m     37\u001b[0m     \u001b[0;32mreturn\u001b[0m \u001b[0mmejor_k\u001b[0m\u001b[0;34m\u001b[0m\u001b[0;34m\u001b[0m\u001b[0m\n\u001b[1;32m     38\u001b[0m \u001b[0;34m\u001b[0m\u001b[0m\n\u001b[0;32m---> 39\u001b[0;31m \u001b[0mmejor_k\u001b[0m \u001b[0;34m=\u001b[0m \u001b[0mevaluar_k_modelos\u001b[0m\u001b[0;34m(\u001b[0m\u001b[0mresultados_k\u001b[0m\u001b[0;34m,\u001b[0m \u001b[0my_train\u001b[0m\u001b[0;34m,\u001b[0m \u001b[0my_test\u001b[0m\u001b[0;34m,\u001b[0m \u001b[0muse_cross_validation\u001b[0m\u001b[0;34m=\u001b[0m\u001b[0;32mFalse\u001b[0m\u001b[0;34m)\u001b[0m\u001b[0;34m\u001b[0m\u001b[0;34m\u001b[0m\u001b[0m\n\u001b[0m\u001b[1;32m     40\u001b[0m \u001b[0mprint\u001b[0m\u001b[0;34m(\u001b[0m\u001b[0;34mf\"El mejor valor de num_k es: {mejor_k}\"\u001b[0m\u001b[0;34m)\u001b[0m\u001b[0;34m\u001b[0m\u001b[0;34m\u001b[0m\u001b[0m\n",
            "\u001b[0;32m<ipython-input-90-c4e3cce37db1>\u001b[0m in \u001b[0;36mevaluar_k_modelos\u001b[0;34m(resultados_k, y_train, y_test, use_cross_validation)\u001b[0m\n\u001b[1;32m     23\u001b[0m         \u001b[0;32melse\u001b[0m\u001b[0;34m:\u001b[0m\u001b[0;34m\u001b[0m\u001b[0;34m\u001b[0m\u001b[0m\n\u001b[1;32m     24\u001b[0m             \u001b[0;31m# Entrenamiento sin validación cruzada\u001b[0m\u001b[0;34m\u001b[0m\u001b[0;34m\u001b[0m\u001b[0m\n\u001b[0;32m---> 25\u001b[0;31m             \u001b[0mmodel\u001b[0m\u001b[0;34m.\u001b[0m\u001b[0mfit\u001b[0m\u001b[0;34m(\u001b[0m\u001b[0mX_train_std\u001b[0m\u001b[0;34m,\u001b[0m \u001b[0my_train\u001b[0m\u001b[0;34m,\u001b[0m \u001b[0mepochs\u001b[0m\u001b[0;34m=\u001b[0m\u001b[0;36m50\u001b[0m\u001b[0;34m,\u001b[0m \u001b[0mbatch_size\u001b[0m\u001b[0;34m=\u001b[0m\u001b[0;36m32\u001b[0m\u001b[0;34m,\u001b[0m \u001b[0mvalidation_split\u001b[0m\u001b[0;34m=\u001b[0m\u001b[0;36m0.2\u001b[0m\u001b[0;34m,\u001b[0m \u001b[0mverbose\u001b[0m\u001b[0;34m=\u001b[0m\u001b[0;36m0\u001b[0m\u001b[0;34m)\u001b[0m\u001b[0;34m\u001b[0m\u001b[0;34m\u001b[0m\u001b[0m\n\u001b[0m\u001b[1;32m     26\u001b[0m             \u001b[0my_pred\u001b[0m \u001b[0;34m=\u001b[0m \u001b[0mmodel\u001b[0m\u001b[0;34m.\u001b[0m\u001b[0mpredict\u001b[0m\u001b[0;34m(\u001b[0m\u001b[0mX_test_std\u001b[0m\u001b[0;34m)\u001b[0m\u001b[0;34m.\u001b[0m\u001b[0mravel\u001b[0m\u001b[0;34m(\u001b[0m\u001b[0;34m)\u001b[0m\u001b[0;34m\u001b[0m\u001b[0;34m\u001b[0m\u001b[0m\n\u001b[1;32m     27\u001b[0m             \u001b[0mroc_auc\u001b[0m \u001b[0;34m=\u001b[0m \u001b[0mroc_auc_score\u001b[0m\u001b[0;34m(\u001b[0m\u001b[0my_test\u001b[0m\u001b[0;34m,\u001b[0m \u001b[0my_pred\u001b[0m\u001b[0;34m)\u001b[0m\u001b[0;34m\u001b[0m\u001b[0;34m\u001b[0m\u001b[0m\n",
            "\u001b[0;32m/usr/local/lib/python3.10/dist-packages/keras/src/utils/traceback_utils.py\u001b[0m in \u001b[0;36merror_handler\u001b[0;34m(*args, **kwargs)\u001b[0m\n\u001b[1;32m    115\u001b[0m         \u001b[0mfiltered_tb\u001b[0m \u001b[0;34m=\u001b[0m \u001b[0;32mNone\u001b[0m\u001b[0;34m\u001b[0m\u001b[0;34m\u001b[0m\u001b[0m\n\u001b[1;32m    116\u001b[0m         \u001b[0;32mtry\u001b[0m\u001b[0;34m:\u001b[0m\u001b[0;34m\u001b[0m\u001b[0;34m\u001b[0m\u001b[0m\n\u001b[0;32m--> 117\u001b[0;31m             \u001b[0;32mreturn\u001b[0m \u001b[0mfn\u001b[0m\u001b[0;34m(\u001b[0m\u001b[0;34m*\u001b[0m\u001b[0margs\u001b[0m\u001b[0;34m,\u001b[0m \u001b[0;34m**\u001b[0m\u001b[0mkwargs\u001b[0m\u001b[0;34m)\u001b[0m\u001b[0;34m\u001b[0m\u001b[0;34m\u001b[0m\u001b[0m\n\u001b[0m\u001b[1;32m    118\u001b[0m         \u001b[0;32mexcept\u001b[0m \u001b[0mException\u001b[0m \u001b[0;32mas\u001b[0m \u001b[0me\u001b[0m\u001b[0;34m:\u001b[0m\u001b[0;34m\u001b[0m\u001b[0;34m\u001b[0m\u001b[0m\n\u001b[1;32m    119\u001b[0m             \u001b[0mfiltered_tb\u001b[0m \u001b[0;34m=\u001b[0m \u001b[0m_process_traceback_frames\u001b[0m\u001b[0;34m(\u001b[0m\u001b[0me\u001b[0m\u001b[0;34m.\u001b[0m\u001b[0m__traceback__\u001b[0m\u001b[0;34m)\u001b[0m\u001b[0;34m\u001b[0m\u001b[0;34m\u001b[0m\u001b[0m\n",
            "\u001b[0;32m/usr/local/lib/python3.10/dist-packages/keras/src/backend/tensorflow/trainer.py\u001b[0m in \u001b[0;36mfit\u001b[0;34m(self, x, y, batch_size, epochs, verbose, callbacks, validation_split, validation_data, shuffle, class_weight, sample_weight, initial_epoch, steps_per_epoch, validation_steps, validation_batch_size, validation_freq)\u001b[0m\n\u001b[1;32m    318\u001b[0m                 \u001b[0;32mfor\u001b[0m \u001b[0mstep\u001b[0m\u001b[0;34m,\u001b[0m \u001b[0miterator\u001b[0m \u001b[0;32min\u001b[0m \u001b[0mepoch_iterator\u001b[0m\u001b[0;34m.\u001b[0m\u001b[0menumerate_epoch\u001b[0m\u001b[0;34m(\u001b[0m\u001b[0;34m)\u001b[0m\u001b[0;34m:\u001b[0m\u001b[0;34m\u001b[0m\u001b[0;34m\u001b[0m\u001b[0m\n\u001b[1;32m    319\u001b[0m                     \u001b[0mcallbacks\u001b[0m\u001b[0;34m.\u001b[0m\u001b[0mon_train_batch_begin\u001b[0m\u001b[0;34m(\u001b[0m\u001b[0mstep\u001b[0m\u001b[0;34m)\u001b[0m\u001b[0;34m\u001b[0m\u001b[0;34m\u001b[0m\u001b[0m\n\u001b[0;32m--> 320\u001b[0;31m                     \u001b[0mlogs\u001b[0m \u001b[0;34m=\u001b[0m \u001b[0mself\u001b[0m\u001b[0;34m.\u001b[0m\u001b[0mtrain_function\u001b[0m\u001b[0;34m(\u001b[0m\u001b[0miterator\u001b[0m\u001b[0;34m)\u001b[0m\u001b[0;34m\u001b[0m\u001b[0;34m\u001b[0m\u001b[0m\n\u001b[0m\u001b[1;32m    321\u001b[0m                     \u001b[0mlogs\u001b[0m \u001b[0;34m=\u001b[0m \u001b[0mself\u001b[0m\u001b[0;34m.\u001b[0m\u001b[0m_pythonify_logs\u001b[0m\u001b[0;34m(\u001b[0m\u001b[0mlogs\u001b[0m\u001b[0;34m)\u001b[0m\u001b[0;34m\u001b[0m\u001b[0;34m\u001b[0m\u001b[0m\n\u001b[1;32m    322\u001b[0m                     \u001b[0mcallbacks\u001b[0m\u001b[0;34m.\u001b[0m\u001b[0mon_train_batch_end\u001b[0m\u001b[0;34m(\u001b[0m\u001b[0mstep\u001b[0m\u001b[0;34m,\u001b[0m \u001b[0mlogs\u001b[0m\u001b[0;34m)\u001b[0m\u001b[0;34m\u001b[0m\u001b[0;34m\u001b[0m\u001b[0m\n",
            "\u001b[0;32m/usr/local/lib/python3.10/dist-packages/tensorflow/python/util/traceback_utils.py\u001b[0m in \u001b[0;36merror_handler\u001b[0;34m(*args, **kwargs)\u001b[0m\n\u001b[1;32m    148\u001b[0m     \u001b[0mfiltered_tb\u001b[0m \u001b[0;34m=\u001b[0m \u001b[0;32mNone\u001b[0m\u001b[0;34m\u001b[0m\u001b[0;34m\u001b[0m\u001b[0m\n\u001b[1;32m    149\u001b[0m     \u001b[0;32mtry\u001b[0m\u001b[0;34m:\u001b[0m\u001b[0;34m\u001b[0m\u001b[0;34m\u001b[0m\u001b[0m\n\u001b[0;32m--> 150\u001b[0;31m       \u001b[0;32mreturn\u001b[0m \u001b[0mfn\u001b[0m\u001b[0;34m(\u001b[0m\u001b[0;34m*\u001b[0m\u001b[0margs\u001b[0m\u001b[0;34m,\u001b[0m \u001b[0;34m**\u001b[0m\u001b[0mkwargs\u001b[0m\u001b[0;34m)\u001b[0m\u001b[0;34m\u001b[0m\u001b[0;34m\u001b[0m\u001b[0m\n\u001b[0m\u001b[1;32m    151\u001b[0m     \u001b[0;32mexcept\u001b[0m \u001b[0mException\u001b[0m \u001b[0;32mas\u001b[0m \u001b[0me\u001b[0m\u001b[0;34m:\u001b[0m\u001b[0;34m\u001b[0m\u001b[0;34m\u001b[0m\u001b[0m\n\u001b[1;32m    152\u001b[0m       \u001b[0mfiltered_tb\u001b[0m \u001b[0;34m=\u001b[0m \u001b[0m_process_traceback_frames\u001b[0m\u001b[0;34m(\u001b[0m\u001b[0me\u001b[0m\u001b[0;34m.\u001b[0m\u001b[0m__traceback__\u001b[0m\u001b[0;34m)\u001b[0m\u001b[0;34m\u001b[0m\u001b[0;34m\u001b[0m\u001b[0m\n",
            "\u001b[0;32m/usr/local/lib/python3.10/dist-packages/tensorflow/python/eager/polymorphic_function/polymorphic_function.py\u001b[0m in \u001b[0;36m__call__\u001b[0;34m(self, *args, **kwds)\u001b[0m\n\u001b[1;32m    831\u001b[0m \u001b[0;34m\u001b[0m\u001b[0m\n\u001b[1;32m    832\u001b[0m       \u001b[0;32mwith\u001b[0m \u001b[0mOptionalXlaContext\u001b[0m\u001b[0;34m(\u001b[0m\u001b[0mself\u001b[0m\u001b[0;34m.\u001b[0m\u001b[0m_jit_compile\u001b[0m\u001b[0;34m)\u001b[0m\u001b[0;34m:\u001b[0m\u001b[0;34m\u001b[0m\u001b[0;34m\u001b[0m\u001b[0m\n\u001b[0;32m--> 833\u001b[0;31m         \u001b[0mresult\u001b[0m \u001b[0;34m=\u001b[0m \u001b[0mself\u001b[0m\u001b[0;34m.\u001b[0m\u001b[0m_call\u001b[0m\u001b[0;34m(\u001b[0m\u001b[0;34m*\u001b[0m\u001b[0margs\u001b[0m\u001b[0;34m,\u001b[0m \u001b[0;34m**\u001b[0m\u001b[0mkwds\u001b[0m\u001b[0;34m)\u001b[0m\u001b[0;34m\u001b[0m\u001b[0;34m\u001b[0m\u001b[0m\n\u001b[0m\u001b[1;32m    834\u001b[0m \u001b[0;34m\u001b[0m\u001b[0m\n\u001b[1;32m    835\u001b[0m       \u001b[0mnew_tracing_count\u001b[0m \u001b[0;34m=\u001b[0m \u001b[0mself\u001b[0m\u001b[0;34m.\u001b[0m\u001b[0mexperimental_get_tracing_count\u001b[0m\u001b[0;34m(\u001b[0m\u001b[0;34m)\u001b[0m\u001b[0;34m\u001b[0m\u001b[0;34m\u001b[0m\u001b[0m\n",
            "\u001b[0;32m/usr/local/lib/python3.10/dist-packages/tensorflow/python/eager/polymorphic_function/polymorphic_function.py\u001b[0m in \u001b[0;36m_call\u001b[0;34m(self, *args, **kwds)\u001b[0m\n\u001b[1;32m    876\u001b[0m       \u001b[0;31m# In this case we have not created variables on the first call. So we can\u001b[0m\u001b[0;34m\u001b[0m\u001b[0;34m\u001b[0m\u001b[0m\n\u001b[1;32m    877\u001b[0m       \u001b[0;31m# run the first trace but we should fail if variables are created.\u001b[0m\u001b[0;34m\u001b[0m\u001b[0;34m\u001b[0m\u001b[0m\n\u001b[0;32m--> 878\u001b[0;31m       results = tracing_compilation.call_function(\n\u001b[0m\u001b[1;32m    879\u001b[0m           \u001b[0margs\u001b[0m\u001b[0;34m,\u001b[0m \u001b[0mkwds\u001b[0m\u001b[0;34m,\u001b[0m \u001b[0mself\u001b[0m\u001b[0;34m.\u001b[0m\u001b[0m_variable_creation_config\u001b[0m\u001b[0;34m\u001b[0m\u001b[0;34m\u001b[0m\u001b[0m\n\u001b[1;32m    880\u001b[0m       )\n",
            "\u001b[0;32m/usr/local/lib/python3.10/dist-packages/tensorflow/python/eager/polymorphic_function/tracing_compilation.py\u001b[0m in \u001b[0;36mcall_function\u001b[0;34m(args, kwargs, tracing_options)\u001b[0m\n\u001b[1;32m    136\u001b[0m   \u001b[0;31m# Bind it ourselves to skip unnecessary canonicalization of default call.\u001b[0m\u001b[0;34m\u001b[0m\u001b[0;34m\u001b[0m\u001b[0m\n\u001b[1;32m    137\u001b[0m   \u001b[0mbound_args\u001b[0m \u001b[0;34m=\u001b[0m \u001b[0mfunction\u001b[0m\u001b[0;34m.\u001b[0m\u001b[0mfunction_type\u001b[0m\u001b[0;34m.\u001b[0m\u001b[0mbind\u001b[0m\u001b[0;34m(\u001b[0m\u001b[0;34m*\u001b[0m\u001b[0margs\u001b[0m\u001b[0;34m,\u001b[0m \u001b[0;34m**\u001b[0m\u001b[0mkwargs\u001b[0m\u001b[0;34m)\u001b[0m\u001b[0;34m\u001b[0m\u001b[0;34m\u001b[0m\u001b[0m\n\u001b[0;32m--> 138\u001b[0;31m   \u001b[0mflat_inputs\u001b[0m \u001b[0;34m=\u001b[0m \u001b[0mfunction\u001b[0m\u001b[0;34m.\u001b[0m\u001b[0mfunction_type\u001b[0m\u001b[0;34m.\u001b[0m\u001b[0munpack_inputs\u001b[0m\u001b[0;34m(\u001b[0m\u001b[0mbound_args\u001b[0m\u001b[0;34m)\u001b[0m\u001b[0;34m\u001b[0m\u001b[0;34m\u001b[0m\u001b[0m\n\u001b[0m\u001b[1;32m    139\u001b[0m   return function._call_flat(  # pylint: disable=protected-access\n\u001b[1;32m    140\u001b[0m       \u001b[0mflat_inputs\u001b[0m\u001b[0;34m,\u001b[0m \u001b[0mcaptured_inputs\u001b[0m\u001b[0;34m=\u001b[0m\u001b[0mfunction\u001b[0m\u001b[0;34m.\u001b[0m\u001b[0mcaptured_inputs\u001b[0m\u001b[0;34m\u001b[0m\u001b[0;34m\u001b[0m\u001b[0m\n",
            "\u001b[0;32m/usr/local/lib/python3.10/dist-packages/tensorflow/core/function/polymorphism/function_type.py\u001b[0m in \u001b[0;36munpack_inputs\u001b[0;34m(self, bound_parameters)\u001b[0m\n\u001b[1;32m    389\u001b[0m     \u001b[0;32mfor\u001b[0m \u001b[0mp\u001b[0m \u001b[0;32min\u001b[0m \u001b[0msorted_parameters\u001b[0m\u001b[0;34m:\u001b[0m\u001b[0;34m\u001b[0m\u001b[0;34m\u001b[0m\u001b[0m\n\u001b[1;32m    390\u001b[0m       flat.extend(\n\u001b[0;32m--> 391\u001b[0;31m           \u001b[0mp\u001b[0m\u001b[0;34m.\u001b[0m\u001b[0mtype_constraint\u001b[0m\u001b[0;34m.\u001b[0m\u001b[0mto_tensors\u001b[0m\u001b[0;34m(\u001b[0m\u001b[0mbound_parameters\u001b[0m\u001b[0;34m.\u001b[0m\u001b[0marguments\u001b[0m\u001b[0;34m[\u001b[0m\u001b[0mp\u001b[0m\u001b[0;34m.\u001b[0m\u001b[0mname\u001b[0m\u001b[0;34m]\u001b[0m\u001b[0;34m)\u001b[0m\u001b[0;34m\u001b[0m\u001b[0;34m\u001b[0m\u001b[0m\n\u001b[0m\u001b[1;32m    392\u001b[0m       )\n\u001b[1;32m    393\u001b[0m \u001b[0;34m\u001b[0m\u001b[0m\n",
            "\u001b[0;32m/usr/local/lib/python3.10/dist-packages/tensorflow/python/framework/type_spec.py\u001b[0m in \u001b[0;36mto_tensors\u001b[0;34m(self, value)\u001b[0m\n\u001b[1;32m    249\u001b[0m \u001b[0;34m\u001b[0m\u001b[0m\n\u001b[1;32m    250\u001b[0m     \u001b[0mtensors\u001b[0m \u001b[0;34m=\u001b[0m \u001b[0;34m[\u001b[0m\u001b[0;34m]\u001b[0m\u001b[0;34m\u001b[0m\u001b[0;34m\u001b[0m\u001b[0m\n\u001b[0;32m--> 251\u001b[0;31m     nest.map_structure(\n\u001b[0m\u001b[1;32m    252\u001b[0m         \u001b[0;32mlambda\u001b[0m \u001b[0mspec\u001b[0m\u001b[0;34m,\u001b[0m \u001b[0mv\u001b[0m\u001b[0;34m:\u001b[0m \u001b[0mtensors\u001b[0m\u001b[0;34m.\u001b[0m\u001b[0mextend\u001b[0m\u001b[0;34m(\u001b[0m\u001b[0mspec\u001b[0m\u001b[0;34m.\u001b[0m\u001b[0mto_tensors\u001b[0m\u001b[0;34m(\u001b[0m\u001b[0mv\u001b[0m\u001b[0;34m)\u001b[0m\u001b[0;34m)\u001b[0m\u001b[0;34m,\u001b[0m\u001b[0;34m\u001b[0m\u001b[0;34m\u001b[0m\u001b[0m\n\u001b[1;32m    253\u001b[0m         \u001b[0mself\u001b[0m\u001b[0;34m.\u001b[0m\u001b[0m_component_specs\u001b[0m\u001b[0;34m,\u001b[0m\u001b[0;34m\u001b[0m\u001b[0;34m\u001b[0m\u001b[0m\n",
            "\u001b[0;32m/usr/local/lib/python3.10/dist-packages/tensorflow/python/util/nest.py\u001b[0m in \u001b[0;36mmap_structure\u001b[0;34m(func, *structure, **kwargs)\u001b[0m\n\u001b[1;32m    626\u001b[0m     \u001b[0mValueError\u001b[0m\u001b[0;34m:\u001b[0m \u001b[0mIf\u001b[0m \u001b[0mwrong\u001b[0m \u001b[0mkeyword\u001b[0m \u001b[0marguments\u001b[0m \u001b[0mare\u001b[0m \u001b[0mprovided\u001b[0m\u001b[0;34m.\u001b[0m\u001b[0;34m\u001b[0m\u001b[0;34m\u001b[0m\u001b[0m\n\u001b[1;32m    627\u001b[0m   \"\"\"\n\u001b[0;32m--> 628\u001b[0;31m   return nest_util.map_structure(\n\u001b[0m\u001b[1;32m    629\u001b[0m       \u001b[0mnest_util\u001b[0m\u001b[0;34m.\u001b[0m\u001b[0mModality\u001b[0m\u001b[0;34m.\u001b[0m\u001b[0mCORE\u001b[0m\u001b[0;34m,\u001b[0m \u001b[0mfunc\u001b[0m\u001b[0;34m,\u001b[0m \u001b[0;34m*\u001b[0m\u001b[0mstructure\u001b[0m\u001b[0;34m,\u001b[0m \u001b[0;34m**\u001b[0m\u001b[0mkwargs\u001b[0m\u001b[0;34m\u001b[0m\u001b[0;34m\u001b[0m\u001b[0m\n\u001b[1;32m    630\u001b[0m   )\n",
            "\u001b[0;32m/usr/local/lib/python3.10/dist-packages/tensorflow/python/util/nest_util.py\u001b[0m in \u001b[0;36mmap_structure\u001b[0;34m(modality, func, *structure, **kwargs)\u001b[0m\n\u001b[1;32m   1063\u001b[0m   \"\"\"\n\u001b[1;32m   1064\u001b[0m   \u001b[0;32mif\u001b[0m \u001b[0mmodality\u001b[0m \u001b[0;34m==\u001b[0m \u001b[0mModality\u001b[0m\u001b[0;34m.\u001b[0m\u001b[0mCORE\u001b[0m\u001b[0;34m:\u001b[0m\u001b[0;34m\u001b[0m\u001b[0;34m\u001b[0m\u001b[0m\n\u001b[0;32m-> 1065\u001b[0;31m     \u001b[0;32mreturn\u001b[0m \u001b[0m_tf_core_map_structure\u001b[0m\u001b[0;34m(\u001b[0m\u001b[0mfunc\u001b[0m\u001b[0;34m,\u001b[0m \u001b[0;34m*\u001b[0m\u001b[0mstructure\u001b[0m\u001b[0;34m,\u001b[0m \u001b[0;34m**\u001b[0m\u001b[0mkwargs\u001b[0m\u001b[0;34m)\u001b[0m\u001b[0;34m\u001b[0m\u001b[0;34m\u001b[0m\u001b[0m\n\u001b[0m\u001b[1;32m   1066\u001b[0m   \u001b[0;32melif\u001b[0m \u001b[0mmodality\u001b[0m \u001b[0;34m==\u001b[0m \u001b[0mModality\u001b[0m\u001b[0;34m.\u001b[0m\u001b[0mDATA\u001b[0m\u001b[0;34m:\u001b[0m\u001b[0;34m\u001b[0m\u001b[0;34m\u001b[0m\u001b[0m\n\u001b[1;32m   1067\u001b[0m     \u001b[0;32mreturn\u001b[0m \u001b[0m_tf_data_map_structure\u001b[0m\u001b[0;34m(\u001b[0m\u001b[0mfunc\u001b[0m\u001b[0;34m,\u001b[0m \u001b[0;34m*\u001b[0m\u001b[0mstructure\u001b[0m\u001b[0;34m,\u001b[0m \u001b[0;34m**\u001b[0m\u001b[0mkwargs\u001b[0m\u001b[0;34m)\u001b[0m\u001b[0;34m\u001b[0m\u001b[0;34m\u001b[0m\u001b[0m\n",
            "\u001b[0;32m/usr/local/lib/python3.10/dist-packages/tensorflow/python/util/nest_util.py\u001b[0m in \u001b[0;36m_tf_core_map_structure\u001b[0;34m(func, *structure, **kwargs)\u001b[0m\n\u001b[1;32m   1099\u001b[0m \u001b[0;34m\u001b[0m\u001b[0m\n\u001b[1;32m   1100\u001b[0m   \u001b[0mflat_structure\u001b[0m \u001b[0;34m=\u001b[0m \u001b[0;34m(\u001b[0m\u001b[0m_tf_core_flatten\u001b[0m\u001b[0;34m(\u001b[0m\u001b[0ms\u001b[0m\u001b[0;34m,\u001b[0m \u001b[0mexpand_composites\u001b[0m\u001b[0;34m)\u001b[0m \u001b[0;32mfor\u001b[0m \u001b[0ms\u001b[0m \u001b[0;32min\u001b[0m \u001b[0mstructure\u001b[0m\u001b[0;34m)\u001b[0m\u001b[0;34m\u001b[0m\u001b[0;34m\u001b[0m\u001b[0m\n\u001b[0;32m-> 1101\u001b[0;31m   \u001b[0mentries\u001b[0m \u001b[0;34m=\u001b[0m \u001b[0mzip\u001b[0m\u001b[0;34m(\u001b[0m\u001b[0;34m*\u001b[0m\u001b[0mflat_structure\u001b[0m\u001b[0;34m)\u001b[0m\u001b[0;34m\u001b[0m\u001b[0;34m\u001b[0m\u001b[0m\n\u001b[0m\u001b[1;32m   1102\u001b[0m \u001b[0;34m\u001b[0m\u001b[0m\n\u001b[1;32m   1103\u001b[0m   return _tf_core_pack_sequence_as(\n",
            "\u001b[0;31mKeyboardInterrupt\u001b[0m: "
          ]
        }
      ],
      "source": [
        "def evaluar_k_modelos(resultados_k, y_train, y_test, use_cross_validation=False):\n",
        "    mejor_k = None\n",
        "    mejor_roc_auc = 0\n",
        "\n",
        "    for num_k, (X_train_std, X_test_std) in resultados_k.items():\n",
        "        # Diseñar el modelo secuencial\n",
        "        model = Sequential()\n",
        "        model.add(Dense(64, input_dim=num_k, activation='relu'))\n",
        "        model.add(Dropout(0.5))\n",
        "        model.add(Dense(32, activation='relu'))\n",
        "        model.add(Dropout(0.5))\n",
        "        model.add(Dense(1, activation='sigmoid'))\n",
        "\n",
        "        # Compilación\n",
        "        optimizer = Adam(learning_rate=0.001)\n",
        "        model.compile(loss='binary_crossentropy', optimizer=optimizer, metrics=['accuracy'])\n",
        "\n",
        "        if use_cross_validation:\n",
        "            # Validación cruzada\n",
        "            kfold = StratifiedKFold(n_splits=5, shuffle=True, random_state=42)\n",
        "            scores = cross_val_score(model, X_train_std, y_train, cv=kfold, scoring='roc_auc')\n",
        "            roc_auc = scores.mean()\n",
        "        else:\n",
        "            # Entrenamiento sin validación cruzada\n",
        "            model.fit(X_train_std, y_train, epochs=50, batch_size=32, validation_split=0.2, verbose=0)\n",
        "            y_pred = model.predict(X_test_std).ravel()\n",
        "            roc_auc = roc_auc_score(y_test, y_pred)\n",
        "\n",
        "        accuracy = accuracy_score(y_test, (y_pred > 0.5).astype(int))\n",
        "\n",
        "        print(f\"num_k: {num_k}, ROC-AUC: {roc_auc:.4f}, Accuracy: {accuracy:.4f}\")\n",
        "\n",
        "        # Guardar el mejor k\n",
        "        if roc_auc > mejor_roc_auc:\n",
        "            mejor_roc_auc = roc_auc\n",
        "            mejor_k = num_k\n",
        "    return mejor_k\n",
        "\n",
        "mejor_k = evaluar_k_modelos(resultados_k, y_train, y_test, use_cross_validation=False)\n",
        "print(f\"El mejor valor de num_k es: {mejor_k}\")\n"
      ]
    },
    {
      "cell_type": "markdown",
      "source": [
        "Ya una vez conseguido el mejor `num_k` se óptará por probar las mejores configuraciones para crear y entrenar un modelo:"
      ],
      "metadata": {
        "id": "QIGt4sho-cDt"
      }
    },
    {
      "cell_type": "markdown",
      "source": [
        "### Función capaz de crear y entrenar el modelo\n",
        "\n",
        "\n",
        "La función `create_and_train_model` crea y entrena un modelo de red neuronal utilizando la configuración de capas proporcionada (`layers_config`) y otros parámetros como la tasa de aprendizaje, la tasa de dropout, el número de épocas y el tamaño de lote. El modelo usa capas densas con activación `ReLU` para las *capas ocultas* y `sigmoide` para la* capa de salida,* aplicando *Dropout* para evitar el sobreajuste. También incorpora `EarlyStopping` para interrumpir el entrenamiento si no hay mejoras en la validación. Esta función se usará en otro bloque para probar diferentes configuraciones de redes neuronales."
      ],
      "metadata": {
        "id": "r7r4eWCu8qT8"
      }
    },
    {
      "cell_type": "code",
      "source": [
        "def create_and_train_model(X_train, y_train, X_val, y_val, num_k, layers_config, dropout_rate=0.2, learning_rate=0.001, epochs=100, batch_size=32):\n",
        "    model = Sequential()\n",
        "\n",
        "    # Capa de entrada\n",
        "    model.add(Dense(layers_config[0], input_dim=num_k, activation='relu'))\n",
        "\n",
        "    # Añadir capas ocultas\n",
        "    for units in layers_config[1:]:\n",
        "        model.add(Dense(units, activation='relu'))\n",
        "        model.add(Dropout(dropout_rate))  # Dropout para evitar overfitting\n",
        "\n",
        "    # Capa de salida\n",
        "    model.add(Dense(1, activation='sigmoid'))  # Sigmoid para clasificación binaria\n",
        "\n",
        "    # Compilar el modelo\n",
        "    model.compile(optimizer=Adam(learning_rate=learning_rate),\n",
        "                  loss='binary_crossentropy',\n",
        "                  metrics=['accuracy'])\n",
        "\n",
        "    # Early stopping para evitar sobreajuste\n",
        "    early_stopping = EarlyStopping(monitor='val_loss', patience=10, restore_best_weights=True)\n",
        "\n",
        "    # Entrenar el modelo\n",
        "    history = model.fit(X_train, y_train, epochs=epochs, batch_size=batch_size,\n",
        "                        validation_data=(X_val, y_val), callbacks=[early_stopping])\n",
        "\n",
        "    # Evaluar el modelo en el conjunto de validación\n",
        "    val_loss, val_accuracy = model.evaluate(X_val, y_val)\n",
        "\n",
        "    return model, val_loss, val_accuracy\n"
      ],
      "metadata": {
        "id": "kVQtsP2I8q29"
      },
      "execution_count": null,
      "outputs": []
    },
    {
      "cell_type": "markdown",
      "source": [
        "### Probar diferentes configuraciones\n",
        "\n",
        "La función `optimize_neural_network` busca encontrar la mejor configuración para entrenar una *red neuronal*, probando todas las combinaciones posibles de parámetros de la red. Primero, normaliza los datos utilizando `StandardScaler` y los divide en conjuntos de entrenamiento y validación. Luego, itera a través de diferentes configuraciones de la red, como el número de capas, la tasa de dropout, la tasa de aprendizaje y el tamaño del lote. Para cada combinación de estos parámetros, entrena el modelo y evalúa su rendimiento en el conjunto de validación. Al final, guarda y devuelve la configuración que logró la mejor precisión en validación. Esta función es útil para realizar una búsqueda exhaustiva de hiperparámetros para optimizar el rendimiento del modelo."
      ],
      "metadata": {
        "id": "tTvbpWmV8sq8"
      }
    },
    {
      "cell_type": "code",
      "source": [
        "def optimize_neural_network(X, y, num_k, config_options, epochs=100, batch_size=32):\n",
        "    # Normalizar datos\n",
        "    scaler = StandardScaler()\n",
        "    X_scaled = scaler.fit_transform(X)\n",
        "\n",
        "    # Seleccionar las primeras num_k características\n",
        "    X_scaled = X_scaled[:, :num_k]  # Seleccionamos solo las primeras num_k columnas\n",
        "\n",
        "    # Dividir los datos en conjunto de entrenamiento y validación\n",
        "    X_train, X_val, y_train, y_val = train_test_split(X_scaled, y, test_size=0.2, random_state=2)\n",
        "\n",
        "    best_accuracy = 0\n",
        "    best_model = None\n",
        "    best_config = None\n",
        "\n",
        "    # Búsqueda de todas las combinaciones posibles\n",
        "    for layers in config_options['layers']:\n",
        "        for dropout_rate in config_options['dropout_rates']:\n",
        "            for learning_rate in config_options['learning_rates']:\n",
        "                for batch_size in config_options['batch_sizes']:\n",
        "                    print(f\"Probando configuración: {layers}, Dropout: {dropout_rate}, Learning Rate: {learning_rate}, Batch Size: {batch_size}\")\n",
        "\n",
        "                    # Entrenar el modelo con la configuración actual\n",
        "                    model, val_loss, val_accuracy = create_and_train_model(\n",
        "                        X_train, y_train, X_val, y_val, num_k, layers,\n",
        "                        dropout_rate, learning_rate, epochs, batch_size\n",
        "                    )\n",
        "\n",
        "                    # Guardar la mejor configuración\n",
        "                    if val_accuracy > best_accuracy:\n",
        "                        best_accuracy = val_accuracy\n",
        "                        best_model = model\n",
        "                        best_config = (layers, dropout_rate, learning_rate, batch_size)\n",
        "\n",
        "    print(f\"Mejor configuración encontrada: {best_config} con precisión de validación: {best_accuracy}\")\n",
        "\n",
        "    return best_model, best_config, best_accuracy\n",
        "\n",
        "\n",
        "config_options = {\n",
        "    'layers': [[64, 32], [128, 64], [256, 128]],\n",
        "    'dropout_rates': [0.2, 0.3, 0.4],\n",
        "    'learning_rates': [0.001, 0.01, 0.0001],\n",
        "    'batch_sizes': [32, 64, 128]\n",
        "}\n",
        "\n",
        "best_model, best_config, best_accuracy = optimize_neural_network(X, y, mejor_k, config_options=config_options)\n"
      ],
      "metadata": {
        "id": "I8BGZpBu8s91"
      },
      "execution_count": null,
      "outputs": []
    }
  ],
  "metadata": {
    "kernelspec": {
      "display_name": "Python 3",
      "language": "python",
      "name": "python3"
    },
    "language_info": {
      "codemirror_mode": {
        "name": "ipython",
        "version": 3
      },
      "file_extension": ".py",
      "mimetype": "text/x-python",
      "name": "python",
      "nbconvert_exporter": "python",
      "pygments_lexer": "ipython3",
      "version": "3.10.12"
    },
    "colab": {
      "provenance": []
    }
  },
  "nbformat": 4,
  "nbformat_minor": 0
}